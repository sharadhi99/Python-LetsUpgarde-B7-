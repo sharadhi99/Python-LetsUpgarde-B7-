{
 "cells": [
  {
   "cell_type": "code",
   "execution_count": 5,
   "metadata": {},
   "outputs": [
    {
     "name": "stdout",
     "output_type": "stream",
     "text": [
      "\n",
      "Original list : \n",
      "\n",
      "['hey this i  sharadhi', 'i am from bangalore']\n",
      "\n",
      "Capitalized list is : \n",
      "\n",
      "['Hey This I Sharadhi', 'I Am From Bangalore']\n"
     ]
    }
   ],
   "source": [
    "lst = [\"hey this i  sharadhi\",\"i am from bangalore\"]\n",
    "\n",
    "print(\"\\nOriginal list : \\n\")\n",
    "\n",
    "print(lst)\n",
    "\n",
    "result = list(map(lambda words: \" \".join([word.capitalize() for word in words.split( )]) ,lst))\n",
    "\n",
    "print(\"\\nCapitalized list is : \\n\")\n",
    "\n",
    "print(result)"
   ]
  },
  {
   "cell_type": "code",
   "execution_count": null,
   "metadata": {},
   "outputs": [],
   "source": []
  }
 ],
 "metadata": {
  "kernelspec": {
   "display_name": "Python 3",
   "language": "python",
   "name": "python3"
  },
  "language_info": {
   "codemirror_mode": {
    "name": "ipython",
    "version": 3
   },
   "file_extension": ".py",
   "mimetype": "text/x-python",
   "name": "python",
   "nbconvert_exporter": "python",
   "pygments_lexer": "ipython3",
   "version": "3.8.3"
  }
 },
 "nbformat": 4,
 "nbformat_minor": 4
}
