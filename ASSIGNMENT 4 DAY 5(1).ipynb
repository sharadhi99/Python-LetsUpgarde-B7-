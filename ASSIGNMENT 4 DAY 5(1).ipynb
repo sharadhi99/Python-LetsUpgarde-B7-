{
 "cells": [
  {
   "cell_type": "markdown",
   "metadata": {},
   "source": [
    "# DAY 5 Assignment"
   ]
  },
  {
   "cell_type": "markdown",
   "metadata": {},
   "source": [
    "# Question 1"
   ]
  },
  {
   "cell_type": "code",
   "execution_count": 1,
   "metadata": {},
   "outputs": [
    {
     "name": "stdout",
     "output_type": "stream",
     "text": [
      "Original list : [1, 5, 6, 4, 1, 2, 3, 5]\n",
      "Original sub list : [1, 1, 5]\n",
      "Its a match\n"
     ]
    }
   ],
   "source": [
    "list = [1,5,6,4,1,2,3,5] \n",
    "sub_list = [1,1,5] \n",
    "  \n",
    " \n",
    "print (\"Original list : \" + str(list)) \n",
    "print (\"Original sub list : \" + str(sub_list)) \n",
    "  \n",
    "  \n",
    "flag = 0\n",
    "if(set(sub_list).issubset(set(list))): \n",
    "    flag = 1\n",
    " \n",
    "if (flag) : \n",
    "    print (\"Its a match\") \n",
    "else : \n",
    "    print (\"It's Gone\") "
   ]
  },
  {
   "cell_type": "code",
   "execution_count": 6,
   "metadata": {},
   "outputs": [
    {
     "name": "stdout",
     "output_type": "stream",
     "text": [
      "Original list : [5, 6, 5, 2, 3.6, 6]\n",
      "Original sub list : [1, 1, 5]\n",
      "It's Gone\n"
     ]
    }
   ],
   "source": [
    "list = [5,6,5,2,3.6,6] \n",
    "sub_list = [1,1,5] \n",
    "  \n",
    " \n",
    "print (\"Original list : \" + str(list)) \n",
    "print (\"Original sub list : \" + str(sub_list)) \n",
    "  \n",
    "  \n",
    "flag = 0\n",
    "if(set(sub_list).issubset(set(list))): \n",
    "    flag = 1\n",
    " \n",
    "if (flag) : \n",
    "    print (\"Its a match\") \n",
    "else : \n",
    "    print (\"It's Gone\")"
   ]
  },
  {
   "cell_type": "code",
   "execution_count": null,
   "metadata": {},
   "outputs": [],
   "source": []
  }
 ],
 "metadata": {
  "kernelspec": {
   "display_name": "Python 3",
   "language": "python",
   "name": "python3"
  },
  "language_info": {
   "codemirror_mode": {
    "name": "ipython",
    "version": 3
   },
   "file_extension": ".py",
   "mimetype": "text/x-python",
   "name": "python",
   "nbconvert_exporter": "python",
   "pygments_lexer": "ipython3",
   "version": "3.8.3"
  }
 },
 "nbformat": 4,
 "nbformat_minor": 4
}
